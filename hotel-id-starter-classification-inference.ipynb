{
 "cells": [
  {
   "cell_type": "markdown",
   "id": "64849142",
   "metadata": {
    "id": "DAY5rHgTm7e8",
    "papermill": {
     "duration": 0.022623,
     "end_time": "2022-03-25T08:46:46.767348",
     "exception": false,
     "start_time": "2022-03-25T08:46:46.744725",
     "status": "completed"
    },
    "tags": []
   },
   "source": [
    "# Intro\n",
    "Inference notebook for [Hotel-ID starter - classification - traning](https://www.kaggle.com/code/michaln/hotel-id-starter-classification-traning)\n",
    "\n"
   ]
  },
  {
   "cell_type": "markdown",
   "id": "e1f71cc8",
   "metadata": {
    "papermill": {
     "duration": 0.020774,
     "end_time": "2022-03-25T08:46:46.809441",
     "exception": false,
     "start_time": "2022-03-25T08:46:46.788667",
     "status": "completed"
    },
    "tags": []
   },
   "source": [
    "# Setup"
   ]
  },
  {
   "cell_type": "code",
   "execution_count": 1,
   "id": "7a58320f",
   "metadata": {
    "execution": {
     "iopub.execute_input": "2022-03-25T08:46:46.861908Z",
     "iopub.status.busy": "2022-03-25T08:46:46.860224Z",
     "iopub.status.idle": "2022-03-25T08:46:46.864825Z",
     "shell.execute_reply": "2022-03-25T08:46:46.865217Z",
     "shell.execute_reply.started": "2022-03-24T21:38:31.986122Z"
    },
    "executionInfo": {
     "elapsed": 16271,
     "status": "ok",
     "timestamp": 1619310548121,
     "user": {
      "displayName": "Jeom Jin-Ho",
      "photoUrl": "",
      "userId": "00155613517919499503"
     },
     "user_tz": -120
    },
    "id": "alleged-legislation",
    "outputId": "c6541e5f-ffb4-4609-d6c6-39784e6a07b1",
    "papermill": {
     "duration": 0.034782,
     "end_time": "2022-03-25T08:46:46.865419",
     "exception": false,
     "start_time": "2022-03-25T08:46:46.830637",
     "status": "completed"
    },
    "tags": []
   },
   "outputs": [],
   "source": [
    "# let's import the sys module \n",
    "import sys\n",
    "\n",
    "# let's append the path to the timm library\n",
    "sys.path.append('../input/timm-pytorch-image-models/pytorch-image-models-master')"
   ]
  },
  {
   "cell_type": "markdown",
   "id": "15d50831",
   "metadata": {
    "id": "cZoSOL9Qm-Yr",
    "papermill": {
     "duration": 0.020832,
     "end_time": "2022-03-25T08:46:46.907383",
     "exception": false,
     "start_time": "2022-03-25T08:46:46.886551",
     "status": "completed"
    },
    "tags": []
   },
   "source": [
    "# Imports"
   ]
  },
  {
   "cell_type": "code",
   "execution_count": 2,
   "id": "ed00c2b4",
   "metadata": {
    "_cell_guid": "b1076dfc-b9ad-4769-8c92-a6c4dae69d19",
    "_uuid": "8f2839f25d086af736a60e9eeb907d3b93b6e0e5",
    "execution": {
     "iopub.execute_input": "2022-03-25T08:46:46.953457Z",
     "iopub.status.busy": "2022-03-25T08:46:46.952819Z",
     "iopub.status.idle": "2022-03-25T08:46:46.954944Z",
     "shell.execute_reply": "2022-03-25T08:46:46.955376Z",
     "shell.execute_reply.started": "2022-03-24T21:38:32.157114Z"
    },
    "executionInfo": {
     "elapsed": 14459,
     "status": "ok",
     "timestamp": 1619310548121,
     "user": {
      "displayName": "Jeom Jin-Ho",
      "photoUrl": "",
      "userId": "00155613517919499503"
     },
     "user_tz": -120
    },
    "id": "expired-matter",
    "papermill": {
     "duration": 0.027233,
     "end_time": "2022-03-25T08:46:46.955499",
     "exception": false,
     "start_time": "2022-03-25T08:46:46.928266",
     "status": "completed"
    },
    "tags": []
   },
   "outputs": [],
   "source": [
    "import numpy as np # linear algebra\n",
    "import pandas as pd # data processing, CSV file I/O (e.g. pd.read_csv)\n",
    "import random # for generating random numbers\n",
    "import os # for accessing directory structure\n",
    "import math # for mathematical operations"
   ]
  },
  {
   "cell_type": "code",
   "execution_count": 3,
   "id": "229a63cc",
   "metadata": {
    "execution": {
     "iopub.execute_input": "2022-03-25T08:46:47.001837Z",
     "iopub.status.busy": "2022-03-25T08:46:47.001310Z",
     "iopub.status.idle": "2022-03-25T08:46:47.004645Z",
     "shell.execute_reply": "2022-03-25T08:46:47.004149Z",
     "shell.execute_reply.started": "2022-03-24T21:38:32.27237Z"
    },
    "executionInfo": {
     "elapsed": 16003,
     "status": "ok",
     "timestamp": 1619310550014,
     "user": {
      "displayName": "Jeom Jin-Ho",
      "photoUrl": "",
      "userId": "00155613517919499503"
     },
     "user_tz": -120
    },
    "id": "extreme-problem",
    "papermill": {
     "duration": 0.028314,
     "end_time": "2022-03-25T08:46:47.004744",
     "exception": false,
     "start_time": "2022-03-25T08:46:46.976430",
     "status": "completed"
    },
    "tags": []
   },
   "outputs": [],
   "source": [
    "from PIL import Image as pil_image # for loading images\n",
    "from tqdm import tqdm # for progress bars"
   ]
  },
  {
   "cell_type": "code",
   "execution_count": 4,
   "id": "daebdb99",
   "metadata": {
    "execution": {
     "iopub.execute_input": "2022-03-25T08:46:47.054507Z",
     "iopub.status.busy": "2022-03-25T08:46:47.053860Z",
     "iopub.status.idle": "2022-03-25T08:46:50.562616Z",
     "shell.execute_reply": "2022-03-25T08:46:50.563096Z",
     "shell.execute_reply.started": "2022-03-24T21:38:32.387101Z"
    },
    "executionInfo": {
     "elapsed": 19672,
     "status": "ok",
     "timestamp": 1619310554099,
     "user": {
      "displayName": "Jeom Jin-Ho",
      "photoUrl": "",
      "userId": "00155613517919499503"
     },
     "user_tz": -120
    },
    "id": "angry-domain",
    "papermill": {
     "duration": 3.533307,
     "end_time": "2022-03-25T08:46:50.563281",
     "exception": false,
     "start_time": "2022-03-25T08:46:47.029974",
     "status": "completed"
    },
    "tags": []
   },
   "outputs": [],
   "source": [
    "import torch # for deep learning\n",
    "import torch.nn as nn # for neural networks\n",
    "from torch.utils.data import DataLoader # for creating data loaders\n",
    "\n",
    "import timm # for vision models"
   ]
  },
  {
   "cell_type": "markdown",
   "id": "82c4710e",
   "metadata": {
    "id": "0B00pe7mnBTj",
    "papermill": {
     "duration": 0.021039,
     "end_time": "2022-03-25T08:46:50.605968",
     "exception": false,
     "start_time": "2022-03-25T08:46:50.584929",
     "status": "completed"
    },
    "tags": []
   },
   "source": [
    "# Global"
   ]
  },
  {
   "cell_type": "code",
   "execution_count": 5,
   "id": "71b22e99",
   "metadata": {
    "execution": {
     "iopub.execute_input": "2022-03-25T08:46:50.654194Z",
     "iopub.status.busy": "2022-03-25T08:46:50.652567Z",
     "iopub.status.idle": "2022-03-25T08:46:50.654775Z",
     "shell.execute_reply": "2022-03-25T08:46:50.655194Z",
     "shell.execute_reply.started": "2022-03-24T21:38:35.881553Z"
    },
    "executionInfo": {
     "elapsed": 589,
     "status": "ok",
     "timestamp": 1619310979015,
     "user": {
      "displayName": "Jeom Jin-Ho",
      "photoUrl": "",
      "userId": "00155613517919499503"
     },
     "user_tz": -120
    },
    "id": "contained-brief",
    "papermill": {
     "duration": 0.027939,
     "end_time": "2022-03-25T08:46:50.655325",
     "exception": false,
     "start_time": "2022-03-25T08:46:50.627386",
     "status": "completed"
    },
    "tags": []
   },
   "outputs": [],
   "source": [
    "SEED = 42 # we se the seed to a constant value so that we can reproduce the results\n",
    "IMG_SIZE = 256 # this is the size of the image. As we are using a ResNet-50 model, we need to resize the images to 256x256\n",
    "\n",
    "PROJECT_FOLDER = \"../input/hotel-id-to-combat-human-trafficking-2022-fgvc9/\" # path to the project folder\n",
    "TEST_DATA_FOLDER = PROJECT_FOLDER + \"test_images/\" # path to the test data folder"
   ]
  },
  {
   "cell_type": "code",
   "execution_count": 6,
   "id": "065b91fe",
   "metadata": {
    "execution": {
     "iopub.execute_input": "2022-03-25T08:46:50.702386Z",
     "iopub.status.busy": "2022-03-25T08:46:50.701541Z",
     "iopub.status.idle": "2022-03-25T08:46:50.705454Z",
     "shell.execute_reply": "2022-03-25T08:46:50.704995Z",
     "shell.execute_reply.started": "2022-03-24T21:38:35.888228Z"
    },
    "executionInfo": {
     "elapsed": 879,
     "status": "ok",
     "timestamp": 1619310979515,
     "user": {
      "displayName": "Jeom Jin-Ho",
      "photoUrl": "",
      "userId": "00155613517919499503"
     },
     "user_tz": -120
    },
    "id": "PZvmFng7ctO3",
    "outputId": "dce0cc91-8e70-4acc-a0b8-6763ffffd5ca",
    "papermill": {
     "duration": 0.028213,
     "end_time": "2022-03-25T08:46:50.705562",
     "exception": false,
     "start_time": "2022-03-25T08:46:50.677349",
     "status": "completed"
    },
    "tags": []
   },
   "outputs": [
    {
     "name": "stdout",
     "output_type": "stream",
     "text": [
      "['sample_submission.csv', 'train_images', 'train_masks', 'test_images']\n"
     ]
    }
   ],
   "source": [
    "print(os.listdir(PROJECT_FOLDER)) # let's see what files are available in the project folder"
   ]
  },
  {
   "cell_type": "code",
   "execution_count": 7,
   "id": "9a953e85",
   "metadata": {
    "execution": {
     "iopub.execute_input": "2022-03-25T08:46:50.753572Z",
     "iopub.status.busy": "2022-03-25T08:46:50.752848Z",
     "iopub.status.idle": "2022-03-25T08:46:50.755404Z",
     "shell.execute_reply": "2022-03-25T08:46:50.754953Z",
     "shell.execute_reply.started": "2022-03-24T21:38:35.905867Z"
    },
    "executionInfo": {
     "elapsed": 600,
     "status": "ok",
     "timestamp": 1619310981653,
     "user": {
      "displayName": "Jeom Jin-Ho",
      "photoUrl": "",
      "userId": "00155613517919499503"
     },
     "user_tz": -120
    },
    "id": "eastern-content",
    "papermill": {
     "duration": 0.028221,
     "end_time": "2022-03-25T08:46:50.755511",
     "exception": false,
     "start_time": "2022-03-25T08:46:50.727290",
     "status": "completed"
    },
    "tags": []
   },
   "outputs": [],
   "source": [
    "def seed_everything(seed):# this function sets the seed for all the libraries\n",
    "    random.seed(seed) # sets the seed for python built-in pseudo-random generator\n",
    "    os.environ['PYTHONHASHSEED'] = str(seed) # sets the seed for hashing objects\n",
    "    np.random.seed(seed) # sets the seed for numpy pseudo-random generator\n",
    "    torch.manual_seed(seed) # this is used to set the seed for numpy pseudio-random generator\n",
    "    torch.cuda.manual_seed(seed) # this is used to set the seed for numpy pseudio-random generator\n",
    "    torch.backends.cudnn.deterministic = True # this is a flag that allows us to enable the inbuilt \n",
    "    # cudnn auto-tuner to find the fastest convolution algorithm. If set to true, the selection of\n",
    "    # convolution algorithm will be deterministic. This will slow down the execution.But give us better results "
   ]
  },
  {
   "cell_type": "markdown",
   "id": "7ae0f7ae",
   "metadata": {
    "id": "xaJKvvuKnW4k",
    "papermill": {
     "duration": 0.021081,
     "end_time": "2022-03-25T08:46:50.798512",
     "exception": false,
     "start_time": "2022-03-25T08:46:50.777431",
     "status": "completed"
    },
    "tags": []
   },
   "source": [
    "# Dataset and transformations"
   ]
  },
  {
   "cell_type": "code",
   "execution_count": 8,
   "id": "4e68619d",
   "metadata": {
    "execution": {
     "iopub.execute_input": "2022-03-25T08:46:50.845848Z",
     "iopub.status.busy": "2022-03-25T08:46:50.845220Z",
     "iopub.status.idle": "2022-03-25T08:46:52.843360Z",
     "shell.execute_reply": "2022-03-25T08:46:52.842823Z",
     "shell.execute_reply.started": "2022-03-24T21:38:35.918517Z"
    },
    "executionInfo": {
     "elapsed": 1519,
     "status": "ok",
     "timestamp": 1619310984075,
     "user": {
      "displayName": "Jeom Jin-Ho",
      "photoUrl": "",
      "userId": "00155613517919499503"
     },
     "user_tz": -120
    },
    "id": "revolutionary-membership",
    "papermill": {
     "duration": 2.023663,
     "end_time": "2022-03-25T08:46:52.843504",
     "exception": false,
     "start_time": "2022-03-25T08:46:50.819841",
     "status": "completed"
    },
    "tags": []
   },
   "outputs": [],
   "source": [
    "import albumentations as A # for image augmentations\n",
    "import albumentations.pytorch as APT # for converting the images to tensors\n",
    "import cv2  # for image processing\n",
    "\n",
    "base_transform = A.Compose([ # this is the base transform that we will use for training\n",
    "    A.ToFloat(), # converts the image to float\n",
    "    APT.transforms.ToTensorV2(), # converts the image to tensor\n",
    "])"
   ]
  },
  {
   "cell_type": "code",
   "execution_count": 9,
   "id": "279a86c8",
   "metadata": {
    "execution": {
     "iopub.execute_input": "2022-03-25T08:46:52.893504Z",
     "iopub.status.busy": "2022-03-25T08:46:52.892756Z",
     "iopub.status.idle": "2022-03-25T08:46:52.894716Z",
     "shell.execute_reply": "2022-03-25T08:46:52.895107Z",
     "shell.execute_reply.started": "2022-03-24T21:38:38.142332Z"
    },
    "papermill": {
     "duration": 0.030143,
     "end_time": "2022-03-25T08:46:52.895249",
     "exception": false,
     "start_time": "2022-03-25T08:46:52.865106",
     "status": "completed"
    },
    "tags": []
   },
   "outputs": [],
   "source": [
    "\"\"\"\n",
    "This function takes an image as input and pads it to make it a square image\n",
    "get the width, height and the channel of the image. If the width is greater than the height then create a\n",
    "new image with the width as the new height, and the height as the new width  \n",
    "\"\"\"\n",
    "def pad_image(img): # this function pads the image to make it a square image\n",
    "    w, h, c = np.shape(img) # get the width, height and the channel of the image\n",
    "    if w > h: # if the width is greater than the height then create a new image with the width as the new height, and the height as the new width\n",
    "        pad = int((w - h) / 2) # get the padding\n",
    "        img = cv2.copyMakeBorder(img, 0, 0, pad, pad, cv2.BORDER_CONSTANT, value=0) \n",
    "    else: # if the height is greater than the width then create a new image with the height as the new height, and the width as the new width\n",
    "        pad = int((h - w) / 2) # get the padding\n",
    "        img = cv2.copyMakeBorder(img, pad, pad, 0, 0, cv2.BORDER_CONSTANT, value=0)\n",
    "        \n",
    "    return img # return the padded image\n",
    "\n",
    "\"\"\"\n",
    "This function takes an image path as input and opens the image, converts it to RGB, pads it and resizes it to 256x256\n",
    "\"\"\"\n",
    "def open_and_preprocess_image(image_path): # this function opens the image, converts it to RGB, pads it and resizes it to 256x256\n",
    "    img = cv2.imread(image_path) # open the image\n",
    "    img = cv2.cvtColor(img, cv2.COLOR_BGR2RGB) # convert the image to RGB\n",
    "    img = pad_image(img) # pad the image\n",
    "    return cv2.resize(img, (IMG_SIZE, IMG_SIZE)) # resize the image to 256x256"
   ]
  },
  {
   "cell_type": "code",
   "execution_count": 10,
   "id": "7b230829",
   "metadata": {
    "execution": {
     "iopub.execute_input": "2022-03-25T08:46:52.944628Z",
     "iopub.status.busy": "2022-03-25T08:46:52.943947Z",
     "iopub.status.idle": "2022-03-25T08:46:52.946496Z",
     "shell.execute_reply": "2022-03-25T08:46:52.946070Z",
     "shell.execute_reply.started": "2022-03-24T21:38:38.151588Z"
    },
    "executionInfo": {
     "elapsed": 1058,
     "status": "ok",
     "timestamp": 1619310984077,
     "user": {
      "displayName": "Jeom Jin-Ho",
      "photoUrl": "",
      "userId": "00155613517919499503"
     },
     "user_tz": -120
    },
    "id": "found-mouth",
    "papermill": {
     "duration": 0.02962,
     "end_time": "2022-03-25T08:46:52.946600",
     "exception": false,
     "start_time": "2022-03-25T08:46:52.916980",
     "status": "completed"
    },
    "tags": []
   },
   "outputs": [],
   "source": [
    "\"\"\"\n",
    "This function takes an image path as input and returns the image after applying the base transform\n",
    "\"\"\"\n",
    "class HotelImageDataset: # this is the dataset class that we will use to load the data\n",
    "    def __init__(self, data, transform=None, data_folder=\"train_images/\"): # this is the constructor\n",
    "        self.data = data # this is the dataframe that contains the data\n",
    "        self.data_folder = data_folder # this is the folder where the images are stored\n",
    "        self.transform = transform # this is the transform that we will apply to the images\n",
    "\n",
    "    def __len__(self): # this function returns the length of the dataset\n",
    "        return len(self.data) # returns the length of the dataset\n",
    "    \n",
    "    def __getitem__(self, idx): # this function returns the item at the given index\n",
    "        record = self.data.iloc[idx] # get the record at the given index\n",
    "        image_path = self.data_folder + record[\"image_id\"] # get the image path\n",
    "        \n",
    "        image = np.array(open_and_preprocess_image(image_path)).astype(np.uint8) # open the image and preprocess it\n",
    "\n",
    "        if self.transform: # if the transform is not None then apply the transform\n",
    "            transformed = self.transform(image=image) # apply the transform\n",
    "            image = transformed[\"image\"] # get the image from the transformed object\n",
    "        \n",
    "        return { # return the image\n",
    "            \"image\" : image, # return the image\n",
    "        }"
   ]
  },
  {
   "cell_type": "markdown",
   "id": "795e04e6",
   "metadata": {
    "id": "NMDM4PwPnced",
    "papermill": {
     "duration": 0.021342,
     "end_time": "2022-03-25T08:46:52.988982",
     "exception": false,
     "start_time": "2022-03-25T08:46:52.967640",
     "status": "completed"
    },
    "tags": []
   },
   "source": [
    "# Model"
   ]
  },
  {
   "cell_type": "code",
   "execution_count": 11,
   "id": "557341c9",
   "metadata": {
    "execution": {
     "iopub.execute_input": "2022-03-25T08:46:53.038395Z",
     "iopub.status.busy": "2022-03-25T08:46:53.037646Z",
     "iopub.status.idle": "2022-03-25T08:46:53.039563Z",
     "shell.execute_reply": "2022-03-25T08:46:53.039929Z",
     "shell.execute_reply.started": "2022-03-24T21:38:38.164237Z"
    },
    "papermill": {
     "duration": 0.028931,
     "end_time": "2022-03-25T08:46:53.040047",
     "exception": false,
     "start_time": "2022-03-25T08:46:53.011116",
     "status": "completed"
    },
    "tags": []
   },
   "outputs": [],
   "source": [
    "\"\"\"\n",
    "this function takes a model, a data loader and a device as input and returns the predictions\n",
    "\"\"\"\n",
    "class HotelIdModel(nn.Module): # this is the model class that we will use to create the model\n",
    "    def __init__(self, n_classes=100, backbone_name=\"efficientnet_b0\"): # this is the constructor\n",
    "        super(HotelIdModel, self).__init__() # call the constructor of the parent class\n",
    "        \n",
    "        self.backbone = timm.create_model(backbone_name, num_classes=n_classes, pretrained=False) # create the backbone model\n",
    "\n",
    "    def forward(self, x): # this function defines the forward pass\n",
    "        return self.backbone(x) # return the output of the backbone model"
   ]
  },
  {
   "cell_type": "markdown",
   "id": "2eae345c",
   "metadata": {
    "id": "YMZYKhUSneMY",
    "papermill": {
     "duration": 0.021477,
     "end_time": "2022-03-25T08:46:53.082721",
     "exception": false,
     "start_time": "2022-03-25T08:46:53.061244",
     "status": "completed"
    },
    "tags": []
   },
   "source": [
    "# Model helper functions"
   ]
  },
  {
   "cell_type": "code",
   "execution_count": 12,
   "id": "2a9d5603",
   "metadata": {
    "execution": {
     "iopub.execute_input": "2022-03-25T08:46:53.132025Z",
     "iopub.status.busy": "2022-03-25T08:46:53.131270Z",
     "iopub.status.idle": "2022-03-25T08:46:53.133134Z",
     "shell.execute_reply": "2022-03-25T08:46:53.133552Z",
     "shell.execute_reply.started": "2022-03-24T21:38:38.178003Z"
    },
    "papermill": {
     "duration": 0.029497,
     "end_time": "2022-03-25T08:46:53.133674",
     "exception": false,
     "start_time": "2022-03-25T08:46:53.104177",
     "status": "completed"
    },
    "tags": []
   },
   "outputs": [],
   "source": [
    "\"\"\"\n",
    "we define a function called predict that takes three arguments: a data loader, a model and the number of matches.\n",
    "we initialize an empty list called preds to store the predictions.\n",
    "we iterate throguh the test loader and get the input and the outputs from the models  \n",
    "we take the sigmoid of the outputs and convert them to numpy arrays. We then append these predictions to the list preds.\n",
    "we sort the predictions in descending order and take the top 5 predictions, we then return these predictions.\n",
    "\"\"\"\n",
    "\n",
    "def predict(loader, model, n_matches=5): \n",
    "    preds = [] # initialize an empty list called preds to store the predictions\n",
    "    with torch.no_grad(): # we do not need to calculate the gradients for the predictions\n",
    "        t = tqdm(loader) # create a tqdm object\n",
    "        for i, sample in enumerate(t): # iterate through the test loader\n",
    "            input = sample['image'].to(args.device) # get the input\n",
    "            outputs = model(input) # get the outputs from the model\n",
    "            outputs = torch.sigmoid(outputs).detach().cpu().numpy() # take the sigmoid of the outputs and convert them to numpy arrays\n",
    "            preds.extend(outputs) # append these predictions to the list preds\n",
    "    \n",
    "    # get 5 top predictions\n",
    "    preds = np.argsort(-np.array(preds), axis=1)[:, :5] # sort the predictions in descending order and take the top 5 predictions\n",
    "    return preds # return these predictions"
   ]
  },
  {
   "cell_type": "markdown",
   "id": "2ae9828b",
   "metadata": {
    "id": "AwShW1wXniD6",
    "papermill": {
     "duration": 0.021318,
     "end_time": "2022-03-25T08:46:53.176280",
     "exception": false,
     "start_time": "2022-03-25T08:46:53.154962",
     "status": "completed"
    },
    "tags": []
   },
   "source": [
    "# Prepare data"
   ]
  },
  {
   "cell_type": "code",
   "execution_count": 13,
   "id": "b4f2e704",
   "metadata": {
    "execution": {
     "iopub.execute_input": "2022-03-25T08:46:53.222605Z",
     "iopub.status.busy": "2022-03-25T08:46:53.222018Z",
     "iopub.status.idle": "2022-03-25T08:46:53.236053Z",
     "shell.execute_reply": "2022-03-25T08:46:53.235629Z",
     "shell.execute_reply.started": "2022-03-24T21:38:38.189335Z"
    },
    "executionInfo": {
     "elapsed": 3742,
     "status": "ok",
     "timestamp": 1619311036476,
     "user": {
      "displayName": "Jeom Jin-Ho",
      "photoUrl": "",
      "userId": "00155613517919499503"
     },
     "user_tz": -120
    },
    "id": "discrete-right",
    "outputId": "c21ed589-3139-4919-b5d5-07bcf6f1df15",
    "papermill": {
     "duration": 0.038513,
     "end_time": "2022-03-25T08:46:53.236173",
     "exception": false,
     "start_time": "2022-03-25T08:46:53.197660",
     "status": "completed"
    },
    "tags": []
   },
   "outputs": [],
   "source": [
    "\"\"\"\n",
    "we define a function called get_predictions that takes two arguments: a data loader and a model.\n",
    "\"\"\"\n",
    "test_df = pd.DataFrame(data={\"image_id\": os.listdir(TEST_DATA_FOLDER), \"hotel_id\": \"\"}).sort_values(by=\"image_id\")"
   ]
  },
  {
   "cell_type": "code",
   "execution_count": 14,
   "id": "87cc6ad6",
   "metadata": {
    "execution": {
     "iopub.execute_input": "2022-03-25T08:46:53.283113Z",
     "iopub.status.busy": "2022-03-25T08:46:53.282630Z",
     "iopub.status.idle": "2022-03-25T08:46:53.297051Z",
     "shell.execute_reply": "2022-03-25T08:46:53.296623Z",
     "shell.execute_reply.started": "2022-03-24T21:38:38.214431Z"
    },
    "papermill": {
     "duration": 0.039442,
     "end_time": "2022-03-25T08:46:53.297176",
     "exception": false,
     "start_time": "2022-03-25T08:46:53.257734",
     "status": "completed"
    },
    "tags": []
   },
   "outputs": [],
   "source": [
    "# code hotel_id mapping created in training notebook by encoding hotel_ids\n",
    "hotel_id_code_df = pd.read_csv('../input/hotel-id-starter-classification-traning/hotel_id_code_mapping.csv')\n",
    "hotel_id_code_map = hotel_id_code_df.set_index('hotel_id_code').to_dict()[\"hotel_id\"]"
   ]
  },
  {
   "cell_type": "markdown",
   "id": "cba93069",
   "metadata": {
    "id": "5JPdD2bpnniP",
    "papermill": {
     "duration": 0.021649,
     "end_time": "2022-03-25T08:46:53.341279",
     "exception": false,
     "start_time": "2022-03-25T08:46:53.319630",
     "status": "completed"
    },
    "tags": []
   },
   "source": [
    "# Prepare model"
   ]
  },
  {
   "cell_type": "code",
   "execution_count": 15,
   "id": "d591a83d",
   "metadata": {
    "execution": {
     "iopub.execute_input": "2022-03-25T08:46:53.390027Z",
     "iopub.status.busy": "2022-03-25T08:46:53.389324Z",
     "iopub.status.idle": "2022-03-25T08:46:53.391914Z",
     "shell.execute_reply": "2022-03-25T08:46:53.391501Z",
     "shell.execute_reply.started": "2022-03-24T21:38:55.597003Z"
    },
    "papermill": {
     "duration": 0.028553,
     "end_time": "2022-03-25T08:46:53.392010",
     "exception": false,
     "start_time": "2022-03-25T08:46:53.363457",
     "status": "completed"
    },
    "tags": []
   },
   "outputs": [],
   "source": [
    "\"\"\"\n",
    "1. we define a function that takes 4 arguments: model_type, backbone_name, checkpoint_path and args.\n",
    "2. we create an object of the HotelIdModel class and pass the number of classes and the backbone name as arguments.\n",
    "3. we load the checkpoint and pass it to the model.\n",
    "4. we load the checkpoint's model state dict to the model.\n",
    "4. we return the model.\n",
    "\"\"\"\n",
    "def get_model(model_type, backbone_name, checkpoint_path, args):\n",
    "    model = HotelIdModel(args.n_classes, backbone_name) # create an object of the HotelIdModel class and pass the number of classes and the backbone name as arguments\n",
    "        \n",
    "    checkpoint = torch.load(checkpoint_path) # load the checkpoint\n",
    "    model.load_state_dict(checkpoint[\"model\"]) # load the checkpoint's model state dict to the model\n",
    "    model = model.to(args.device) # send the model to the device\n",
    "    \n",
    "    return model # return the model"
   ]
  },
  {
   "cell_type": "code",
   "execution_count": 16,
   "id": "0fbed3f5",
   "metadata": {
    "execution": {
     "iopub.execute_input": "2022-03-25T08:46:53.442327Z",
     "iopub.status.busy": "2022-03-25T08:46:53.441471Z",
     "iopub.status.idle": "2022-03-25T08:46:53.485059Z",
     "shell.execute_reply": "2022-03-25T08:46:53.484614Z",
     "shell.execute_reply.started": "2022-03-24T21:38:56.584409Z"
    },
    "executionInfo": {
     "elapsed": 450,
     "status": "ok",
     "timestamp": 1619311064188,
     "user": {
      "displayName": "Jeom Jin-Ho",
      "photoUrl": "",
      "userId": "00155613517919499503"
     },
     "user_tz": -120
    },
    "id": "appointed-machinery",
    "papermill": {
     "duration": 0.071875,
     "end_time": "2022-03-25T08:46:53.485189",
     "exception": false,
     "start_time": "2022-03-25T08:46:53.413314",
     "status": "completed"
    },
    "tags": []
   },
   "outputs": [],
   "source": [
    "\"\"\"\n",
    "1. Create a dataset object, passing in the dataframe and the base_transform function. \n",
    "2. Create a dataloader, passing in the dataset and some configuration parameters:\n",
    "\"\"\"\n",
    "class args: # this is the class that contains the arguments\n",
    "    batch_size = 64 # batch size\n",
    "    num_workers = 2 # number of workers\n",
    "    n_classes = hotel_id_code_df[\"hotel_id\"].nunique() # number of classes\n",
    "    \"\"\"\n",
    "    import the torch library. Check if a GPU is available. If so use the GPU. If not Use the CPU\n",
    "    store the result of the check in the variable device. \n",
    "    \"\"\"\n",
    "    device = ('cuda' if torch.cuda.is_available() else 'cpu') \n",
    "    \n",
    "    \n",
    "seed_everything(seed=SEED) # seed everything\n",
    "\n",
    "test_dataset = HotelImageDataset(test_df, base_transform, data_folder=TEST_DATA_FOLDER) # create a dataset object, passing in the dataframe and the base_transform function\n",
    "test_loader = DataLoader(test_dataset, num_workers=args.num_workers, batch_size=args.batch_size, shuffle=False) # create a dataloader, passing in the dataset and some configuration parameters"
   ]
  },
  {
   "cell_type": "code",
   "execution_count": 17,
   "id": "6b99b3ee",
   "metadata": {
    "execution": {
     "iopub.execute_input": "2022-03-25T08:46:53.533992Z",
     "iopub.status.busy": "2022-03-25T08:46:53.533439Z",
     "iopub.status.idle": "2022-03-25T08:46:58.137235Z",
     "shell.execute_reply": "2022-03-25T08:46:58.136532Z",
     "shell.execute_reply.started": "2022-03-24T21:38:57.057089Z"
    },
    "papermill": {
     "duration": 4.63069,
     "end_time": "2022-03-25T08:46:58.137401",
     "exception": false,
     "start_time": "2022-03-25T08:46:53.506711",
     "status": "completed"
    },
    "tags": []
   },
   "outputs": [],
   "source": [
    "model = get_model(\"classification\", \"efficientnet_b0\",\n",
    "                  \"../input/hotel-id-starter-classification-traning/checkpoint-classification-model-efficientnet_b0-256x256.pt\", \n",
    "                  args) # get the model"
   ]
  },
  {
   "cell_type": "markdown",
   "id": "3289c39e",
   "metadata": {
    "papermill": {
     "duration": 0.022056,
     "end_time": "2022-03-25T08:46:58.186009",
     "exception": false,
     "start_time": "2022-03-25T08:46:58.163953",
     "status": "completed"
    },
    "tags": []
   },
   "source": [
    "# Submission"
   ]
  },
  {
   "cell_type": "code",
   "execution_count": 18,
   "id": "07d7a4d4",
   "metadata": {
    "execution": {
     "iopub.execute_input": "2022-03-25T08:46:58.234990Z",
     "iopub.status.busy": "2022-03-25T08:46:58.234430Z",
     "iopub.status.idle": "2022-03-25T08:47:04.328441Z",
     "shell.execute_reply": "2022-03-25T08:47:04.328862Z",
     "shell.execute_reply.started": "2022-03-24T21:39:02.840794Z"
    },
    "papermill": {
     "duration": 6.121573,
     "end_time": "2022-03-25T08:47:04.329007",
     "exception": false,
     "start_time": "2022-03-25T08:46:58.207434",
     "status": "completed"
    },
    "tags": []
   },
   "outputs": [
    {
     "name": "stderr",
     "output_type": "stream",
     "text": [
      "100%|██████████| 1/1 [00:06<00:00,  6.07s/it]"
     ]
    },
    {
     "name": "stdout",
     "output_type": "stream",
     "text": [
      "CPU times: user 834 ms, sys: 780 ms, total: 1.61 s\n",
      "Wall time: 6.08 s\n"
     ]
    },
    {
     "name": "stderr",
     "output_type": "stream",
     "text": [
      "\n"
     ]
    },
    {
     "data": {
      "text/html": [
       "<div>\n",
       "<style scoped>\n",
       "    .dataframe tbody tr th:only-of-type {\n",
       "        vertical-align: middle;\n",
       "    }\n",
       "\n",
       "    .dataframe tbody tr th {\n",
       "        vertical-align: top;\n",
       "    }\n",
       "\n",
       "    .dataframe thead th {\n",
       "        text-align: right;\n",
       "    }\n",
       "</style>\n",
       "<table border=\"1\" class=\"dataframe\">\n",
       "  <thead>\n",
       "    <tr style=\"text-align: right;\">\n",
       "      <th></th>\n",
       "      <th>image_id</th>\n",
       "      <th>hotel_id</th>\n",
       "    </tr>\n",
       "  </thead>\n",
       "  <tbody>\n",
       "    <tr>\n",
       "      <th>0</th>\n",
       "      <td>abc.jpg</td>\n",
       "      <td>197510 73224 83464 23668 49472</td>\n",
       "    </tr>\n",
       "  </tbody>\n",
       "</table>\n",
       "</div>"
      ],
      "text/plain": [
       "  image_id                        hotel_id\n",
       "0  abc.jpg  197510 73224 83464 23668 49472"
      ]
     },
     "execution_count": 18,
     "metadata": {},
     "output_type": "execute_result"
    }
   ],
   "source": [
    "%%time\n",
    "\n",
    "preds = predict(test_loader, model)\n",
    "# replace classes with hotel_id using mapping created in trainig notebook\n",
    "preds = [[hotel_id_code_map[b] for b in a] for a in preds]\n",
    "# transform array of hotel_ids into string\n",
    "test_df[\"hotel_id\"] = [str(list(l)).strip(\"[]\").replace(\",\", \"\") for l in preds]\n",
    "\n",
    "test_df.to_csv(\"submission.csv\", index=False)\n",
    "test_df.head()"
   ]
  }
 ],
 "metadata": {
  "kernelspec": {
   "display_name": "Python 3",
   "language": "python",
   "name": "python3"
  },
  "language_info": {
   "codemirror_mode": {
    "name": "ipython",
    "version": 3
   },
   "file_extension": ".py",
   "mimetype": "text/x-python",
   "name": "python",
   "nbconvert_exporter": "python",
   "pygments_lexer": "ipython3",
   "version": "3.7.12"
  },
  "papermill": {
   "default_parameters": {},
   "duration": 28.330987,
   "end_time": "2022-03-25T08:47:06.688738",
   "environment_variables": {},
   "exception": null,
   "input_path": "__notebook__.ipynb",
   "output_path": "__notebook__.ipynb",
   "parameters": {},
   "start_time": "2022-03-25T08:46:38.357751",
   "version": "2.3.3"
  }
 },
 "nbformat": 4,
 "nbformat_minor": 5
}
